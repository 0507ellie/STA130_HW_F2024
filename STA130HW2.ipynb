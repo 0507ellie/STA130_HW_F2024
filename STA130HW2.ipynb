{
 "cells": [
  {
   "cell_type": "markdown",
   "metadata": {},
   "source": [
    "## STA130 Homework 02"
   ]
  },
  {
   "cell_type": "markdown",
   "metadata": {},
   "source": [
    "### \"Pre-lecture\" HW [*completion prior to next LEC is suggested but not mandatory*]"
   ]
  },
  {
   "cell_type": "markdown",
   "metadata": {},
   "source": [
    "ChatGPT transcript:https://chatgpt.com/share/66ea2360-770c-8001-94ba-b29b202c3d8a\n"
   ]
  },
  {
   "cell_type": "markdown",
   "metadata": {},
   "source": [
    "#### 1. Begin (or restart) part \"3(a)\" of the **TUT Demo** and interact with a ChatBot to make sure you understand how each part the Monte Hall problem code above works<br>"
   ]
  },
  {
   "cell_type": "code",
   "execution_count": 3,
   "metadata": {},
   "outputs": [
    {
     "name": "stdout",
     "output_type": "stream",
     "text": [
      "0.66654\n"
     ]
    }
   ],
   "source": [
    "import numpy as np\n",
    "all_door_options = (1,2,3)  # tuple\n",
    "my_door_choice = 1  # 1,2,3\n",
    "i_won = 0\n",
    "reps = 100000\n",
    "for i in range(reps):\n",
    "    secret_winning_door = np.random.choice(all_door_options)\n",
    "    all_door_options_list = list(all_door_options)\n",
    "    # take the secret_winning_door, so we don't show it as a \"goat\" losing door\n",
    "    all_door_options_list.remove(secret_winning_door)\n",
    "    try:\n",
    "        # if my_door_choice was secret_winning_door then it's already removed\n",
    "        all_door_options_list.remove(my_door_choice)\n",
    "    except:\n",
    "        pass\n",
    "    # show a \"goat\" losing door and remove it\n",
    "    goat_door_reveal = np.random.choice(all_door_options_list)\n",
    "    all_door_options_list.remove(goat_door_reveal)\n",
    "\n",
    "    # put the secret_winning_door back in if it wasn't our choice\n",
    "    # we previously removed it, so it would be shown as a  \"goat\" losing door\n",
    "    if secret_winning_door != my_door_choice:\n",
    "        all_door_options_list.append(secret_winning_door)\n",
    "    # if secret_winning_door was our choice then all that's left in the list is a \"goat\" losing door\n",
    "    # if secret_winning_door wasn't our choice then it's all that will be left in the list\n",
    "\n",
    "    # swap strategy\n",
    "    my_door_choice = all_door_options_list[0]\n",
    "\n",
    "    if my_door_choice == secret_winning_door:\n",
    "        i_won += 1\n",
    "\n",
    "i_won/reps"
   ]
  },
  {
   "cell_type": "markdown",
   "metadata": {},
   "source": [
    "##### **Initialization:**\n",
    "\n",
    "all_door_options = (1, 2, 3): Represents the three doors.\n",
    "\n",
    "my_door_choice = 1: The initial choice of door.\n",
    "\n",
    "i_won = 0: Counter for the number of wins.\n",
    "\n",
    "reps = 100000: Number of simulations to run.\n",
    "\n",
    "##### **Simulation Loop:**\n",
    "\n",
    "\n",
    "For each iteration (reps times), a secret winning door is randomly chosen from the doors (secret_winning_door).\n",
    "\n",
    "The list of doors is created and the winning door is removed to ensure it doesn't appear as a \"goat\" (losing door) to be revealed.\n",
    "\n",
    "If the initial choice (my_door_choice) is not the winning door, it is also removed.\n",
    "\n",
    "A losing door is randomly chosen and removed from the list of remaining doors.\n",
    "\n",
    "If the initial choice was not the winning door, the winning door is added back to the list of remaining doors.\n",
    "\n",
    "The remaining door (the one that wasn't chosen or revealed) is the one that the player would switch to.\n",
    "\n",
    "##### **Strategy and Win Calculation:**\n",
    "\n",
    "The player switches to the remaining door.\n",
    "\n",
    "If the new choice is the winning door, increment the win counter (i_won).\n",
    "\n",
    "##### **Result:**\n",
    "\n",
    "After all simulations, i_won / reps calculates the probability of winning if the player switches doors."
   ]
  },
  {
   "cell_type": "markdown",
   "metadata": {},
   "source": [
    "#### 2. Extend your ChatBot sessions to now address part \"3(b)\" of the **TUT Demo** and interact with your ChatBot to see if it can suggest a simpler, more streamlined way to code up this *for* loop simulation so the process is more clear and easier to understand; then, describe any preferences you have in terms of readibility or explainability  between the original code and the code improvements suggested by the ChatBot"
   ]
  },
  {
   "cell_type": "code",
   "execution_count": 2,
   "metadata": {},
   "outputs": [
    {
     "name": "stdout",
     "output_type": "stream",
     "text": [
      "0.66564\n"
     ]
    }
   ],
   "source": [
    "### improved code by ChatGPT\n",
    "import numpy as np\n",
    "\n",
    "def monty_hall_simulation(reps):\n",
    "    wins = 0\n",
    "    doors = [1, 2, 3]\n",
    "    \n",
    "    for _ in range(reps):\n",
    "        # Randomly choose the winning door and the player's initial choice\n",
    "        winning_door = np.random.choice(doors)\n",
    "        player_choice = np.random.choice(doors)\n",
    "        \n",
    "        # List of doors to show as losing doors (excluding player's choice)\n",
    "        remaining_doors = [door for door in doors if door != player_choice]\n",
    "        \n",
    "        # Reveal a losing door, which is not the winning door\n",
    "        revealed_door = np.random.choice([door for door in remaining_doors if door != winning_door])\n",
    "        \n",
    "        # The remaining door is the one to switch to\n",
    "        remaining_door = [door for door in remaining_doors if door != revealed_door][0]\n",
    "        \n",
    "        # Check if switching wins\n",
    "        if remaining_door == winning_door:\n",
    "            wins += 1\n",
    "    \n",
    "    return wins / reps\n",
    "\n",
    "# Run the simulation with 100,000 repetitions\n",
    "probability_of_winning = monty_hall_simulation(100000)\n",
    "print(probability_of_winning)\n"
   ]
  },
  {
   "cell_type": "markdown",
   "metadata": {},
   "source": [
    "The code provided by ChatGPT is more straightforward, which is easier to understand the idea. But the code provided by ChatGPT might be less efficient."
   ]
  },
  {
   "cell_type": "markdown",
   "metadata": {},
   "source": [
    "#### 3. Submit your preferred version of the Monty Hall problem that is verified to be running and working with a final printed output of the code; then, add code comments explaining the purpose of each line of the code"
   ]
  },
  {
   "cell_type": "code",
   "execution_count": 4,
   "metadata": {},
   "outputs": [
    {
     "name": "stdout",
     "output_type": "stream",
     "text": [
      "0.66824\n"
     ]
    }
   ],
   "source": [
    "### improved code by ChatGPT\n",
    "import numpy as np\n",
    "# import \"numpy\" and abbreviate it to np\n",
    "\n",
    "def monty_hall_simulation(reps):\n",
    "    # define a function 'monty_hall_simulation' with the parameter reps\n",
    "    wins = 0\n",
    "    #give value=0 to the variable 'wins' \n",
    "    doors = [1, 2, 3]\n",
    "    #give value=[1, 2, 3] to the variable 'doors' \n",
    "\n",
    "    for _ in range(reps):\n",
    "        winning_door = np.random.choice(doors)\n",
    "        # Randomly choose the winning door\n",
    "        player_choice = np.random.choice(doors)\n",
    "        # Randomly choose the player's initial choice\n",
    "\n",
    "        remaining_doors = [door for door in doors if door != player_choice]\n",
    "        # List of doors to show as losing doors (excluding player's choice)\n",
    "        \n",
    "        revealed_door = np.random.choice([door for door in remaining_doors if door != winning_door])\n",
    "        # Reveal a losing door, which is not the winning door\n",
    "        \n",
    "        remaining_door = [door for door in remaining_doors if door != revealed_door][0]\n",
    "         # The remaining door is the one to switch to\n",
    "        \n",
    "        if remaining_door == winning_door:\n",
    "            wins += 1\n",
    "        # Check if switching wins\n",
    "    \n",
    "    return wins / reps\n",
    "\n",
    "probability_of_winning = monty_hall_simulation(100000)\n",
    "# Run the simulation with 100,000 repetitions\n",
    "print(probability_of_winning)\n"
   ]
  },
  {
   "cell_type": "markdown",
   "metadata": {},
   "source": [
    "#### **summary:**\n",
    "##### Define the Simulation Function:\n",
    "\n",
    "monty_hall_simulation(reps): Simulates the Monty Hall problem for a given number of repetitions (reps).\n",
    "##### **Initialize:**\n",
    "\n",
    "wins = 0: Counter to track the number of wins when switching doors.\n",
    "\n",
    "doors = [1, 2, 3]: Represents the three possible doors.\n",
    "\n",
    "Run the Simulation Loop:\n",
    "\n",
    "##### **For each repetition:**\n",
    "Randomly select the winning door and the player's initial choice.\n",
    "\n",
    "Create a list of doors that can be revealed (excluding the player's choice).\n",
    "\n",
    "Randomly reveal a losing door (excluding the winning door).\n",
    "\n",
    "The remaining door (after revealing) is the one the player would switch to.\n",
    "\n",
    "Check if switching leads to winning; if so, increment the win counter.\n",
    "##### **Calculate and Return:**\n",
    "\n",
    "Compute the probability of winning by dividing the number of wins by the total number of repetitions.\n",
    "\n",
    "Return the probability.\n",
    "\n",
    "##### **Execute the Simulation:**\n",
    "\n",
    "Run the simulation with 100,000 repetitions and print the probability of winning if the player switches doors.\n"
   ]
  },
  {
   "cell_type": "markdown",
   "metadata": {},
   "source": [
    "#### 4. Watch the embedded video tutorial on Markov chains in the next Jupyter cell below to understand their application and relevance for ChatBots; then, after watching the video, start a new ChatBot session by prompting that you have code that creates a \"Markovian ChatBot\"; show it the first version of the \"Markovian ChatBot code\" below; and interact with the ChatBot session to make sure you understand how the original first version of the \"Markovian ChatBot code\" works"
   ]
  },
  {
   "cell_type": "markdown",
   "metadata": {},
   "source": [
    "ChatGPT transcript: https://chatgpt.com/share/66ea2743-ecfc-8001-a78f-46bf3fad5c7c"
   ]
  },
  {
   "cell_type": "markdown",
   "metadata": {},
   "source": [
    "#### 5. Recreate (or resume) the previous ChatBot session from question \"4\" above, and now  prompt the ChatBot session that you have a couple extensions of the code to show it, and then show it each of the extentions of the \"Markovian ChatBot code\" below in turn\n"
   ]
  },
  {
   "cell_type": "markdown",
   "metadata": {},
   "source": [
    "ChatGPT transcript: https://chatgpt.com/share/66eb6510-866c-8001-9a39-7cf904e8a824"
   ]
  },
  {
   "cell_type": "markdown",
   "metadata": {},
   "source": [
    "1. Without just supplying your ChatBot session with the answers, see if the ChatBot can figure out what the extensions in the code do; namely, making character specific Markov chains, and using bigrams (rather than just the previous word alone) dependency... prompt your ChatBot session with some hints if it's not seeming to \"get it\""
   ]
  },
  {
   "cell_type": "markdown",
   "metadata": {},
   "source": [
    "This code snippet is using Python's defaultdict from the collections module to build a bigram model for word sequences, which is a way of analyzing pairs of consecutive words and predicting the next word in a text.\n",
    "\n",
    "Here's a breakdown:\n",
    "\n",
    "word_used2 = defaultdict(int):\n",
    "This creates a dictionary where each key is a bigram (two consecutive words) and the value is the count of how often that bigram appears in the text. defaultdict(int) means if a key is accessed but doesn't exist, it will be initialized to 0.\n",
    "\n",
    "next_word2 = defaultdict(lambda: defaultdict(int)):\n",
    "This is a nested defaultdict. Each key is a bigram, and the value is another defaultdict(int) that counts how often a word follows that bigram. It helps track the frequency of the third word after any given bigram.\n",
    "\n",
    "for i, word in enumerate(words[:-2]):\n",
    "This loop iterates through the list of words (words) but stops at the third-to-last word (words[:-2]). The variable i is the index, and word is the current word in the iteration.\n",
    "\n",
    "word_used2[word + ' ' + words[i + 1]] += 1:\n",
    "This concatenates the current word and the next word (word + ' ' + words[i + 1]) to form a bigram and increments its count in word_used2.\n",
    "\n",
    "next_word2[word + ' ' + words[i + 1]][words[i + 2]] += 1:\n",
    "After counting the bigram, the next step is to increment the count of the third word (words[i + 2]) that follows this bigram in the next_word2 dictionary."
   ]
  },
  {
   "cell_type": "markdown",
   "metadata": {},
   "source": [
    "2. Interact with your ChatBot session to have it explain details of the code wherever you need help understanding what the code is doing and how it works<br><br>\n",
    "  "
   ]
  },
  {
   "cell_type": "markdown",
   "metadata": {},
   "source": [
    "3. Start yet another new ChatBot session and first show the ChatBot the original \"Markovian ChatBot code\" below, and then tell ChatBot that you have an extension but this time just directly provide it the more complicated final extension without ever providing the intermediate extension code to the ChatBot session and see if it's still able to understand everything extension does; namely, making character specific Markov chains, and using bigrams (rather than just the previous word alone) dependency... prompt the ChatBot with some hints if it's not seeming to understand what you're getting at..."
   ]
  },
  {
   "cell_type": "markdown",
   "metadata": {},
   "source": [
    "ChatGPT transcript: https://chatgpt.com/share/66eb67b4-0ac8-8001-bec8-129aeefc79d0"
   ]
  },
  {
   "cell_type": "markdown",
   "metadata": {},
   "source": [
    "#### 6. Report on your experience interacting with ChatBots to understand the Monte Hall problem and \"Markovian ChatBot\" code\n",
    "\n",
    "1. Discuss how quickly the ChatBot was able to be helpful for each of the above questions, and if so, how?\n",
    "\n",
    "ChatGPT responded to my questions quickly and stayed focused on exactly what I asked. Unlike Google, which often requires browsing through unrelated information, ChatGPT provided direct and relevant answers, making it more time-efficient.\n",
    "    \n",
    "2. Discuss whether or not interacting with ChatBot to try to figure things out was frustrating or unhelpful, and if so, how?\n",
    "\n",
    "Overall, ChatGPT was helpful, although occasionally it struggled to understand certain questions. Despite these challenges, it was still more effective than using Google, which requires more manual effort to sift through information.\n",
    "    \n",
    "3. Based on your experiences to date (e.g., including using ChatBots to troubleshoot coding errors in the previous homework), provide an overall assessment evaluating the usefulness of ChatBots as tools to help you understand code\n",
    "\n",
    "ChatGPT delivers precise, targeted information based on the question asked, unlike Google, where I had to filter through a lot of unrelated results. This made the process of troubleshooting and understanding code more efficient."
   ]
  },
  {
   "cell_type": "markdown",
   "metadata": {},
   "source": [
    "#### 7. Reflect on your experience interacting with ChatBot and describe how your perception of AI-driven assistance tools in the context of learning coding, statistics, and data science has been evolving (or not) since joining the course\n",
    "\n",
    "Since starting STA130, I’ve interacted extensively with ChatGPT and found it to be extremely helpful for learning and understanding course material. Whenever I have questions, ChatGPT responds quickly and provides numerous examples to deepen my understanding. Additionally, it often offers extensions related to my queries, which further enhances my grasp of the subject matter.\n",
    "\n",
    "Initially, I viewed using ChatGPT as a form of cheating, but my perspective has shifted since joining STA130. I now see ChatGPT as a valuable educational tool rather than a shortcut."
   ]
  },
  {
   "cell_type": "markdown",
   "metadata": {},
   "source": [
    "#### 8. ChatBots consume text data available on the web or platforms, and thus represents a new way to \"search consensensus\" that condenses and summarizes mainstream human thought<br><br>\n",
    "\n",
    "1. Start a new ChatBot session and discuss the relevance of learning and adaptability, communication, coding, and statistics and data analysis as skills in the modern world, especially with respect to career opportunities (particularly in the context of the data science industry)<br><br>\n",
    "    \n",
    "2. See if ChatBot thinks you could be a statistician or data scientist without coding or doing data analysis, and then transition your ChatBot conversation into a career exploration discussion, using the ChatBot to identify the skills that might be the most valuable for a career that you're interested<br><br>\n",
    "    \n",
    "3. Ask for a summary of this ChatBot session and paste it into your homework notebook (including link(s) to chat log histories if you're using ChatBot)<br><br>\n",
    "    \n",
    "4. Paraphrase the assessments and conclusions of your conversation in the form of a reflection on your current thoughts regarding your potential future career(s) and how you can go about building the skills you need to pursue it<br><br>\n",
    "\n",
    "5. Give your thoughts regarding the helpfulness or limitations of your conversation with a ChatBot, and describe the next steps you would take to pursue this conversation further if you felt the information the ChatBot provides was somewhat high level and general, and perhaps lacked the depth and detailed knowledge of a dedicated subject matter expert who had really take the time to understand the ins and outs of the industry and career path in question."
   ]
  },
  {
   "cell_type": "markdown",
   "metadata": {},
   "source": [
    "ChatGPT transcript:https://chatgpt.com/share/66eb6e06-44e0-8001-a8e3-bf78e4cd2e9b"
   ]
  },
  {
   "cell_type": "markdown",
   "metadata": {},
   "source": [
    "#### 9. Have you reviewed the course [wiki-textbook](https://github.com/pointOfive/stat130chat130/wiki) and interacted with a ChatBot (or, if that wasn't sufficient, real people in the course piazza discussion board or TA office hours) to help you understand all the material in the tutorial and lecture that you didn't quite follow when you first saw it?"
   ]
  },
  {
   "cell_type": "markdown",
   "metadata": {},
   "source": [
    "Yes"
   ]
  }
 ],
 "metadata": {
  "kernelspec": {
   "display_name": "Python 3",
   "language": "python",
   "name": "python3"
  },
  "language_info": {
   "codemirror_mode": {
    "name": "ipython",
    "version": 3
   },
   "file_extension": ".py",
   "mimetype": "text/x-python",
   "name": "python",
   "nbconvert_exporter": "python",
   "pygments_lexer": "ipython3",
   "version": "3.11.1"
  }
 },
 "nbformat": 4,
 "nbformat_minor": 2
}
